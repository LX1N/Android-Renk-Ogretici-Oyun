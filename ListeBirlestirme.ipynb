{
  "nbformat": 4,
  "nbformat_minor": 0,
  "metadata": {
    "colab": {
      "name": "Untitled1.ipynb",
      "provenance": [],
      "collapsed_sections": [],
      "authorship_tag": "ABX9TyOfBOOKodRfvEhRwT50G4qJ",
      "include_colab_link": true
    },
    "kernelspec": {
      "name": "python3",
      "display_name": "Python 3"
    },
    "language_info": {
      "name": "python"
    }
  },
  "cells": [
    {
      "cell_type": "markdown",
      "metadata": {
        "id": "view-in-github",
        "colab_type": "text"
      },
      "source": [
        "<a href=\"https://colab.research.google.com/github/LX1N/Android-Renk-Ogretici-Oyun/blob/master/ListeBirlestirme.ipynb\" target=\"_parent\"><img src=\"https://colab.research.google.com/assets/colab-badge.svg\" alt=\"Open In Colab\"/></a>"
      ]
    },
    {
      "cell_type": "code",
      "execution_count": 1,
      "metadata": {
        "id": "v4se3T_cRVun"
      },
      "outputs": [],
      "source": [
        "import numpy as np\n",
        "ekonomi = np.array([1,2,3,4])\n",
        "deu = np.array([4,5,6,7])"
      ]
    },
    {
      "cell_type": "code",
      "source": [
        "np.concatenate([ekonomi,deu])"
      ],
      "metadata": {
        "colab": {
          "base_uri": "https://localhost:8080/"
        },
        "id": "SNROMbkSRm4N",
        "outputId": "8b6d9219-5b43-4a37-8893-e6938b910820"
      },
      "execution_count": 2,
      "outputs": [
        {
          "output_type": "execute_result",
          "data": {
            "text/plain": [
              "array([1, 2, 3, 4, 4, 5, 6, 7])"
            ]
          },
          "metadata": {},
          "execution_count": 2
        }
      ]
    },
    {
      "cell_type": "code",
      "source": [
        "a = np.array([[1,2,4],\n",
        "              [1,2,6]])\n",
        "\n",
        "b = np.array([[2,35,36],\n",
        "              [53,65,98]])"
      ],
      "metadata": {
        "id": "TbXJvwUESCPx"
      },
      "execution_count": 3,
      "outputs": []
    },
    {
      "cell_type": "code",
      "source": [
        "np.concatenate([a,b],axis=0)"
      ],
      "metadata": {
        "colab": {
          "base_uri": "https://localhost:8080/"
        },
        "id": "ugNn1HVYSr5_",
        "outputId": "03b7fcdc-8a58-4772-85bd-fa3180d96049"
      },
      "execution_count": 4,
      "outputs": [
        {
          "output_type": "execute_result",
          "data": {
            "text/plain": [
              "array([[ 1,  2,  4],\n",
              "       [ 1,  2,  6],\n",
              "       [ 2, 35, 36],\n",
              "       [53, 65, 98]])"
            ]
          },
          "metadata": {},
          "execution_count": 4
        }
      ]
    },
    {
      "cell_type": "code",
      "source": [
        "np.concatenate([a,b],axis=1)"
      ],
      "metadata": {
        "colab": {
          "base_uri": "https://localhost:8080/"
        },
        "id": "mdcSwfEcS94H",
        "outputId": "3f9894e5-84c8-4ecd-dc30-dad8853ae100"
      },
      "execution_count": 5,
      "outputs": [
        {
          "output_type": "execute_result",
          "data": {
            "text/plain": [
              "array([[ 1,  2,  4,  2, 35, 36],\n",
              "       [ 1,  2,  6, 53, 65, 98]])"
            ]
          },
          "metadata": {},
          "execution_count": 5
        }
      ]
    },
    {
      "cell_type": "code",
      "source": [
        "from google.colab import drive\n",
        "drive.mount('/content/drive')"
      ],
      "metadata": {
        "id": "ClmGiGLpTtq0"
      },
      "execution_count": null,
      "outputs": []
    },
    {
      "cell_type": "code",
      "source": [
        ""
      ],
      "metadata": {
        "id": "yB5bpDTtTPUW"
      },
      "execution_count": null,
      "outputs": []
    }
  ]
}